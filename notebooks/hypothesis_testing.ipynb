{
 "cells": [
  {
   "cell_type": "code",
   "execution_count": 1,
   "metadata": {},
   "outputs": [],
   "source": [
    "# Add the src directory to the Python path\n",
    "import sys\n",
    "import pandas as pd\n",
    "sys.path.append('../src')\n",
    "# Import necessary modules\n",
    "from hypothesis_testing import HypothesisTester"
   ]
  },
  {
   "cell_type": "code",
   "execution_count": 2,
   "metadata": {},
   "outputs": [],
   "source": [
    "\n",
    "# Load the processed data\n",
    "cleaned_data = pd.read_csv('../data/Processed/cleaned_data.csv', low_memory=False)\n"
   ]
  },
  {
   "cell_type": "code",
   "execution_count": 3,
   "metadata": {},
   "outputs": [],
   "source": [
    "tester = HypothesisTester(cleaned_data)"
   ]
  },
  {
   "cell_type": "markdown",
   "metadata": {},
   "source": [
    "### Risk Differences Across Provinces\n",
    "#### Analysis Objective\n",
    "This test examines whether there are significant differences in risk levels (measured by Total Claims) across provinces. The goal is to understand how risk varies regionally, which can inform province-specific policies or risk management strategies.\n",
    "### Hypothesis\n",
    "Null Hypothesis (H₀): No risk differences across provinces.\n",
    "\n",
    "Alternative Hypothesis (H₁): Risk differences exist across provinces."
   ]
  },
  {
   "cell_type": "code",
   "execution_count": 8,
   "metadata": {},
   "outputs": [
    {
     "name": "stdout",
     "output_type": "stream",
     "text": [
      "Test: ANOVA\n",
      "Statistic: 5.849413762407606\n",
      "P-value: 1.6782057588675903e-07\n",
      "Message: Reject Null Hypothesis: There are significant differences.\n",
      "None\n"
     ]
    }
   ],
   "source": [
    "\n",
    "# 1. Test risk differences across provinces\n",
    "province_result = tester.test_risk_by_group('Province', 'TotalClaims')\n",
    "print(province_result)"
   ]
  },
  {
   "cell_type": "markdown",
   "metadata": {},
   "source": [
    "#### Results\n",
    "\n",
    "- Test Type: ANOVA (Analysis of Variance)\n",
    "  - Compares the mean Total Claims across multiple provinces.\n",
    "- F-Statistic: 5.849\n",
    "  - Indicates significant variation in Total Claims between provinces.\n",
    "- p-Value: 1.6782e-07\n",
    " - This value is much smaller than the common significance level of 0.05 indicating that the observed differences are statistically significant.\n",
    "- Decision: Reject the null hypothesis (H₀).\n",
    "#### Conclusion\n",
    "There is sufficient evidence to conclude that significant risk differences exist across provinces. The variations in Total Claims are statistically significant and not due to random chance.\n",
    "#### Implications\n",
    "1. Targeted Risk Strategy: Risk management or pricing strategies may need to be adjusted by province.\n",
    "2. Further Exploration: Identify specific provinces driving the differences and tailor policies accordingly.\n",
    "3. Potential Policy Adjustments: Review how premiums and policies can be aligned with the provincial risk profiles.\n",
    "#### Next Steps\n",
    "Visualize Total Claims by province to pinpoint specific regional disparities.\n",
    "\n",
    "Investigate other factors contributing to the risk differences between provinces."
   ]
  },
  {
   "cell_type": "markdown",
   "metadata": {},
   "source": [
    "## Risk Differences Between Zip Codes\n",
    "\n",
    "### Analysis Objective\n",
    "This test evaluates whether there are significant differences in **risk levels** (measured by `Total Claims`) between zip codes. The goal is to determine if zip code-specific risk management or pricing strategies are warranted.\n",
    "\n",
    "### Hypotheses\n",
    "- **Null Hypothesis (H₀):** No risk differences between zip codes.\n",
    "- **Alternative Hypothesis (H₁):** Risk differences exist between zip codes."
   ]
  },
  {
   "cell_type": "code",
   "execution_count": 9,
   "metadata": {},
   "outputs": [
    {
     "name": "stdout",
     "output_type": "stream",
     "text": [
      "Test: ANOVA\n",
      "Statistic: 0.9419762214391849\n",
      "P-value: 0.8906511279164051\n",
      "Message: Accept Null Hypothesis: There are no significant differences.\n",
      "None\n"
     ]
    }
   ],
   "source": [
    "# 2. Test risk differences between zip codes\n",
    "zip_result = tester.test_risk_by_group('PostalCode', 'TotalClaims')\n",
    "print(zip_result)\n"
   ]
  },
  {
   "cell_type": "markdown",
   "metadata": {},
   "source": [
    "### Results\n",
    "- **Test Type:** ANOVA (Analysis of Variance)  \n",
    "  - Compares the mean `Total Claims` across multiple zip codes.\n",
    "- **F-Statistic:** 0.942  \n",
    "  - Indicates a very small variance in `Total Claims` between zip codes.\n",
    "- **p-Value:** 0.891  \n",
    "  - This p-value is much greater than the common significance level of 0.05, suggesting that the observed differences are likely due to random chance.\n",
    "- **Decision:** Accept the null hypothesis (H₀).\n",
    "\n",
    "### Conclusion\n",
    "There is **insufficient evidence** to reject the null hypothesis, meaning there are no significant risk differences between zip codes. Any variations in `Total Claims` across zip codes are likely due to random fluctuation rather than any systematic difference.\n",
    "\n",
    "### Implications\n",
    "1. **Uniform Risk Strategy:** Since no significant differences exist between zip codes, it may not be necessary to implement zip code-specific risk management or pricing strategies.\n",
    "2. **Resource Allocation:** The same risk management approach can be applied uniformly across zip codes, as there is no compelling evidence to suggest otherwise.\n",
    "3. **Exploring Other Factors:** Further analysis could explore whether other variables, such as demographics or policy types, influence risk within zip codes.\n"
   ]
  },
  {
   "cell_type": "code",
   "execution_count": null,
   "metadata": {},
   "outputs": [],
   "source": []
  }
 ],
 "metadata": {
  "kernelspec": {
   "display_name": "venv",
   "language": "python",
   "name": "python3"
  },
  "language_info": {
   "codemirror_mode": {
    "name": "ipython",
    "version": 3
   },
   "file_extension": ".py",
   "mimetype": "text/x-python",
   "name": "python",
   "nbconvert_exporter": "python",
   "pygments_lexer": "ipython3",
   "version": "3.10.5"
  }
 },
 "nbformat": 4,
 "nbformat_minor": 2
}
